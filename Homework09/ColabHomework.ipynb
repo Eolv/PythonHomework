{
  "cells": [
    {
      "cell_type": "markdown",
      "metadata": {
        "id": "nKXDIZnsR-cZ"
      },
      "source": [
        "Задача 40: Работать с файлом california_housing_train.csv, который находится в папке sample_data. Определить среднюю стоимость дома, где кол-во людей от 0 до 500 (population).\n",
        "\n",
        "Задача 42: Узнать какая максимальная households в зоне минимального значения population."
      ]
    },
    {
      "cell_type": "code",
      "execution_count": 141,
      "metadata": {
        "id": "oqB7VuZirE3n"
      },
      "outputs": [],
      "source": [
        "import pandas as pd\n",
        "path = \"/content/sample_data/california_housing_train.csv\"\n",
        "df = pd.read_csv(path)"
      ]
    },
    {
      "cell_type": "code",
      "execution_count": null,
      "metadata": {
        "id": "NgBJZ5oBMNEs"
      },
      "outputs": [],
      "source": [
        "df.describe()"
      ]
    },
    {
      "cell_type": "code",
      "execution_count": null,
      "metadata": {
        "id": "hEC8anInJxlv"
      },
      "outputs": [],
      "source": [
        "#Задача 40\n",
        "df[(df['population']>0) & (df['population']<500)]['median_house_value'].mean()"
      ]
    },
    {
      "cell_type": "code",
      "execution_count": null,
      "metadata": {
        "id": "I6oHjo1KRvrl"
      },
      "outputs": [],
      "source": [
        "#Задача 42\n",
        "df[df['population'] == df['population'].min()]['households'].max()"
      ]
    }
  ],
  "metadata": {
    "colab": {
      "provenance": []
    },
    "kernelspec": {
      "display_name": "Python 3",
      "name": "python3"
    },
    "language_info": {
      "name": "python"
    }
  },
  "nbformat": 4,
  "nbformat_minor": 0
}