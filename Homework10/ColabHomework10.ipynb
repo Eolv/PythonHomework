{
  "cells": [
    {
      "cell_type": "markdown",
      "metadata": {
        "id": "nKXDIZnsR-cZ"
      },
      "source": [
        "Задача 44:\n",
        "В ячейке ниже представлен код генерирующий DataFrame, которая состоит всего из 1 столбца. Ваша задача перевести его в one hot вид. Сможете ли вы это сделать без get_dummies?\n",
        "\n",
        "```\n",
        "import random\n",
        "lst = ['robot'] * 10\n",
        "lst += ['human'] * 10\n",
        "random.shuffle(lst)\n",
        "data = pd.DataFrame({'whoAmI'lst})\n",
        "data.head()\n",
        "```\n",
        "\n"
      ]
    },
    {
      "cell_type": "code",
      "execution_count": 92,
      "metadata": {
        "id": "oqB7VuZirE3n"
      },
      "outputs": [],
      "source": [
        "import pandas as pd\n",
        "import random\n",
        "lst = ['robot'] * 10\n",
        "lst += ['human'] * 10\n",
        "random.shuffle(lst)\n",
        "data = pd.DataFrame({'whoAmI': lst})\n",
        "\n",
        "robots, humans = [0] * 20, [0] * 20\n",
        "for i in range(20):\n",
        "  if data['whoAmI'][i] == 'robot': robots[i] = 1\n",
        "  if data['whoAmI'][i] == 'human': humans[i] = 1\n",
        "\n",
        "data['robot'] = robots\n",
        "data['human'] = humans\n",
        "data.drop('whoAmI', axis = 1, inplace = True)"
      ]
    }
  ],
  "metadata": {
    "colab": {
      "provenance": []
    },
    "kernelspec": {
      "display_name": "Python 3",
      "name": "python3"
    },
    "language_info": {
      "name": "python"
    }
  },
  "nbformat": 4,
  "nbformat_minor": 0
}